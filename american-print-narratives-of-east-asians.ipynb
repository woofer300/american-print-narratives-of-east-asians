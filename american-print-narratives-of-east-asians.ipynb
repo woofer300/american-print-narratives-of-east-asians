{
 "cells": [
  {
   "cell_type": "raw",
   "id": "835408f4a0fc8682",
   "metadata": {
    "vscode": {
     "languageId": "raw"
    }
   },
   "source": [
    "Configure variables and storage directories"
   ]
  },
  {
   "cell_type": "code",
   "execution_count": 17,
   "id": "edf107af",
   "metadata": {},
   "outputs": [
    {
     "name": "stdout",
     "output_type": "stream",
     "text": [
      "Number of time blocks: 35\n",
      "Number of articles to download: 700\n",
      "Start date: 1850-01-01\n",
      "End date: 1854-12-31\n",
      "Length of time period in days: 1825\n"
     ]
    }
   ],
   "source": [
    "from datetime import date\n",
    "import math\n",
    "from pathlib import Path\n",
    "from collections import defaultdict\n",
    "import spacy\n",
    "from spacytextblob.spacytextblob import SpacyTextBlob\n",
    "import re\n",
    "import webbrowser\n",
    "from pytesseract import pytesseract\n",
    "import json\n",
    "import cv2\n",
    "from transformers import AutoTokenizer, AutoModelWithLMHead\n",
    "import seaborn as sns\n",
    "import seaborn.objects as so\n",
    "from matplotlib import pyplot as plt\n",
    "import pandas as pd\n",
    "from wordcloud import WordCloud\n",
    "\n",
    "# Configuration variables\n",
    "g_keywords = [\"chinese\", \"japanese\", \"korean\", \"okinawan\", \"taiwanese\", \"tibetan\", \"\\\"east+asian\\\"\", \"oriental\", \"chinaman\", \"chinamen\", \"jap\", \"chink\", \"coolie\", \"celestial\"]\n",
    "g_search_date_range_start = date(1850, 1, 1)\n",
    "g_search_date_range_end = date(2024, 7, 9)\n",
    "g_num_articles_per_time_period = 20\n",
    "g_time_block_range_years = 5\n",
    "\n",
    "g_search_date_range_days = (g_search_date_range_end - g_search_date_range_start).days\n",
    "g_num_time_blocks = math.ceil(g_search_date_range_days / (365 * g_time_block_range_years))\n",
    "\n",
    "print(\"Number of time blocks: \" + str(g_num_time_blocks))\n",
    "print(\"Number of articles to download: \" + str(g_num_time_blocks * g_num_articles_per_time_period))\n",
    "\n",
    "def create_directories_if_do_not_exist(directories):\n",
    "    for directory in directories:\n",
    "        directory_path = Path.cwd() / directory\n",
    "        if not directory_path.exists():\n",
    "            directory_path.mkdir()\n",
    "            print(\"Created directory: \\\"\" + directory + \"\\\"\")\n",
    "\n",
    "g_storage_directories = [\"articles\", \"contexts\", \"uncorrected_contexts\", \"results\"]\n",
    "create_directories_if_do_not_exist(g_storage_directories)\n",
    "\n",
    "g_time_block_number = int(input(\"Pick time block, 0-\" + str(g_num_time_blocks - 1) + \": \"))\n",
    "if g_time_block_number < 0 or g_time_block_number >= g_num_time_blocks:\n",
    "    print(\"Invalid time block!\")\n",
    "    exit()\n",
    "\n",
    "\n",
    "def get_starting_date(time_block_num, search_date_range_start, time_block_range_years):\n",
    "    return date(search_date_range_start.year + time_block_num * time_block_range_years, 1, 1)\n",
    "\n",
    "\n",
    "def get_ending_date(time_block_num, search_date_range_start, search_date_range_end, time_block_range_years):\n",
    "    ending_date = date(search_date_range_start.year + (time_block_num + 1) * time_block_range_years - 1, 12, 31)\n",
    "    if ending_date > search_date_range_end:\n",
    "        return search_date_range_end\n",
    "    else:\n",
    "        return ending_date\n",
    "\n",
    "\n",
    "g_start_date = get_starting_date(g_time_block_number, g_search_date_range_start, g_time_block_range_years)\n",
    "g_end_date = get_ending_date(g_time_block_number, g_search_date_range_start, g_search_date_range_end, g_time_block_range_years)\n",
    "\n",
    "print(\"Start date: \" + g_start_date.strftime('%Y-%m-%d'))\n",
    "print(\"End date: \" + g_end_date.strftime('%Y-%m-%d'))\n",
    "print(\"Length of time period in days: \" + str((g_end_date - g_start_date).days))"
   ]
  },
  {
   "cell_type": "markdown",
   "id": "fe8eaef3",
   "metadata": {},
   "source": [
    "Load functions"
   ]
  },
  {
   "cell_type": "code",
   "execution_count": 22,
   "id": "bee83284d750dae9",
   "metadata": {
    "jupyter": {
     "is_executing": true
    }
   },
   "outputs": [],
   "source": [
    "def parse_time_block_str(time_blocks_str):\n",
    "    unprocessed_time_block_str_list = time_blocks_str.split(\", \")\n",
    "    time_block_list = []\n",
    "    for time_block_str in unprocessed_time_block_str_list:\n",
    "        if \"-\" in time_block_str:\n",
    "            time_block_range = time_block_str.split(\"-\")\n",
    "            time_block_list.extend(range(int(time_block_range[0]), int(time_block_range[1]) + 1))\n",
    "        else:\n",
    "            time_block_list.append(int(time_block_str))\n",
    "    return time_block_list\n",
    "\n",
    "\n",
    "def get_time_block_number(year, search_date_range_start, time_block_range_years):\n",
    "    return math.floor((year - search_date_range_start.year) / time_block_range_years)\n",
    "\n",
    "\n",
    "def get_keywords_with_num_hits(keywords, start_date, end_date):\n",
    "    keywords_with_num_hits = {}\n",
    "    for keyword in keywords:\n",
    "        webbrowser.open(\"https://www.newspapers.com/search/results/?country=us&date-end=\" + end_date.strftime('%Y-%m-%d') + \"&date-start=\" + start_date.strftime('%Y-%m-%d') + \"&entity-types=page&keyword=\" + keyword)\n",
    "        keywords_with_num_hits[keyword] = int(input(\"Number of hits: \").replace(\",\", \"\"))\n",
    "    return keywords_with_num_hits\n",
    "\n",
    "\n",
    "def get_keywords_with_num_articles(keywords_with_num_hits, num_articles_per_time_period):\n",
    "    total_hits = sum(keywords_with_num_hits.values())\n",
    "    article_remainders = []\n",
    "    keywords_with_num_articles = {}\n",
    "    for keyword, hits in keywords_with_num_hits.items():\n",
    "        keywords_with_num_articles[keyword] = int((hits / total_hits) * num_articles_per_time_period)\n",
    "        article_remainders.append((keyword, ((hits / total_hits) * num_articles_per_time_period) % 1))\n",
    "    article_remainders.sort(key=lambda keyword_with_article_remainder: keyword_with_article_remainder[1], reverse=True)\n",
    "    num_searches_short = num_articles_per_time_period - sum(keywords_with_num_articles.values())\n",
    "    for i in range(num_searches_short):\n",
    "        keywords_with_num_articles[article_remainders[i][0]] += 1\n",
    "    return keywords_with_num_articles\n",
    "\n",
    "\n",
    "def get_keywords_with_urls_and_num_articles(keywords_with_num_articles, start_date, end_date):\n",
    "    keywords_with_urls_and_num_articles = []\n",
    "    for keyword, num_articles in keywords_with_num_articles.items():\n",
    "        keywords_with_urls_and_num_articles.append({\n",
    "            \"keyword\": keyword,\n",
    "            \"url\": \"https://www.newspapers.com/search/results/?country=us&date-end=\" + end_date.strftime('%Y-%m-%d') + \"&date-start=\" + start_date.strftime('%Y-%m-%d') + \"&entity-types=page&keyword=\" + keyword,\n",
    "            \"num_articles\": num_articles\n",
    "        })\n",
    "    return keywords_with_urls_and_num_articles\n",
    "\n",
    "\n",
    "def run_article_download_helper(keywords_with_urls_and_num_articles):\n",
    "    for keyword_with_urls_and_num_articles in keywords_with_urls_and_num_articles:\n",
    "        if keyword_with_urls_and_num_articles[\"num_articles\"] != 0:\n",
    "            text_input = input(\"Please download \" + str(keyword_with_urls_and_num_articles[\"num_articles\"]) + \" articles with the keyword \\\"\" + keyword_with_urls_and_num_articles[\"keyword\"] + \"\\\". Press return to continue. Type \\\"stop\\\" to stop.\")\n",
    "            if text_input == \"stop\":\n",
    "                break\n",
    "            webbrowser.open(keyword_with_urls_and_num_articles[\"url\"])\n",
    "            text_input = input(\"Once you have downloaded \" + str(keyword_with_urls_and_num_articles[\"num_articles\"]) + \" articles with the keyword \\\"\" + keyword_with_urls_and_num_articles[\"keyword\"] + \"\\\", press return to continue. Type \\\"stop\\\" to stop.\")\n",
    "            if text_input == \"stop\":\n",
    "                break\n",
    "\n",
    "\n",
    "\n",
    "def get_info_from_file_stem(file_stem):\n",
    "    parts = file_stem.split('_')\n",
    "    newspaper_name_parts = []\n",
    "\n",
    "    for part in parts:\n",
    "        if part.isdigit() and len(part) == 4:\n",
    "            year_index = parts.index(part)\n",
    "            break\n",
    "        newspaper_name_parts.append(part)\n",
    "\n",
    "    newspaper_name = ' '.join(newspaper_name_parts)\n",
    "    date_published = date(int(parts[year_index]), int(parts[year_index + 1]), int(parts[year_index + 2]))\n",
    "\n",
    "    return newspaper_name, date_published\n",
    "\n",
    "\n",
    "def write_time_period_sorted_info_to_files(contexts, target_dir_path):\n",
    "    if not target_dir_path.exists():\n",
    "        target_dir_path.mkdir()\n",
    "    for time_period, time_period_info in contexts.items():\n",
    "        with open(target_dir_path / f\"{time_period}.json\", 'w+') as time_period_info_file:\n",
    "            json.dump(time_period_info, time_period_info_file, indent=4)\n",
    "\n",
    "\n",
    "def get_average_by_time_period(info_type, results_dir_path):\n",
    "    average_by_time_period = {}\n",
    "    for result_by_time_period_path in results_dir_path.rglob(\"*\"):\n",
    "        time_period = result_by_time_period_path.stem\n",
    "        with open(result_by_time_period_path) as result_file:\n",
    "            result_by_time_period = json.load(result_file)\n",
    "            values = []\n",
    "            for keyword, keyword_contexts in result_by_time_period.items():\n",
    "                for keyword_context in keyword_contexts:\n",
    "                    values.append(keyword_context[info_type])\n",
    "            average_by_time_period[time_period] = sum(values) / len(values)\n",
    "    return average_by_time_period\n",
    "\n",
    "\n",
    "def get_combined_frequencies_by_time_period_excluding_keywords(info_type, results_dir_path):\n",
    "    def add_frequency_dictionaries(dict1, dict2):\n",
    "        combined_dict = dict(dict1)\n",
    "        for key, value in dict2.items():\n",
    "            if key not in g_keywords:\n",
    "                if key in combined_dict:\n",
    "                    combined_dict[key] += value\n",
    "                else:\n",
    "                    combined_dict[key] = value\n",
    "        return combined_dict\n",
    "\n",
    "\n",
    "    combined_frequency_by_time_period = {}\n",
    "    for result_by_time_period_path in results_dir_path.rglob(\"*\"):\n",
    "        time_period = result_by_time_period_path.stem\n",
    "        with open(result_by_time_period_path) as result_file:\n",
    "            result_by_time_period = json.load(result_file)\n",
    "            combined_frequency = defaultdict(int)\n",
    "            for keyword, keyword_contexts in result_by_time_period.items():\n",
    "                for keyword_context in keyword_contexts:\n",
    "                    if isinstance(keyword_context[info_type], str) and keyword_context[info_type] not in g_keywords:\n",
    "                        combined_frequency[keyword_context[info_type]] += 1\n",
    "                    else:\n",
    "                        combined_frequency = add_frequency_dictionaries(combined_frequency, keyword_context[info_type])\n",
    "            combined_frequency_by_time_period[time_period] = combined_frequency\n",
    "    return combined_frequency_by_time_period\n",
    "\n",
    "\n",
    "def generate_word_clouds(word_frequencies_by_time_period):\n",
    "    for time_period, word_frequencies in word_frequencies_by_time_period.items():\n",
    "        word_cloud = WordCloud().generate_from_frequencies(word_frequencies)\n",
    "        plt.imshow(word_cloud, interpolation='bilinear')\n",
    "        plt.axis(\"off\")\n",
    "        plt.show()"
   ]
  },
  {
   "cell_type": "markdown",
   "id": "43e03d19d1b347bf",
   "metadata": {},
   "source": [
    "Get the number of articles needed for each keyword by pasting in the number of hits for each keyword"
   ]
  },
  {
   "cell_type": "code",
   "execution_count": 4,
   "id": "a11c28d3daf609a6",
   "metadata": {
    "ExecuteTime": {
     "end_time": "2024-07-15T20:41:26.957943Z",
     "start_time": "2024-07-15T20:41:18.157321Z"
    }
   },
   "outputs": [
    {
     "ename": "ValueError",
     "evalue": "invalid literal for int() with base 10: ''",
     "output_type": "error",
     "traceback": [
      "\u001b[0;31m---------------------------------------------------------------------------\u001b[0m",
      "\u001b[0;31mValueError\u001b[0m                                Traceback (most recent call last)",
      "Cell \u001b[0;32mIn[4], line 1\u001b[0m\n\u001b[0;32m----> 1\u001b[0m g_keywords_with_num_articles \u001b[38;5;241m=\u001b[39m get_keywords_with_num_articles(\u001b[43mget_keywords_with_num_hits\u001b[49m\u001b[43m(\u001b[49m\u001b[43mg_keywords\u001b[49m\u001b[43m,\u001b[49m\u001b[43m \u001b[49m\u001b[43mg_start_date\u001b[49m\u001b[43m,\u001b[49m\u001b[43m \u001b[49m\u001b[43mg_end_date\u001b[49m\u001b[43m)\u001b[49m, g_num_articles_per_time_period)\n\u001b[1;32m      2\u001b[0m \u001b[38;5;28mprint\u001b[39m(g_keywords_with_num_articles)\n",
      "Cell \u001b[0;32mIn[3], line 21\u001b[0m, in \u001b[0;36mget_keywords_with_num_hits\u001b[0;34m(keywords, start_date, end_date)\u001b[0m\n\u001b[1;32m     19\u001b[0m \u001b[38;5;28;01mfor\u001b[39;00m keyword \u001b[38;5;129;01min\u001b[39;00m keywords:\n\u001b[1;32m     20\u001b[0m     webbrowser\u001b[38;5;241m.\u001b[39mopen(\u001b[38;5;124m\"\u001b[39m\u001b[38;5;124mhttps://www.newspapers.com/search/results/?country=us&date-end=\u001b[39m\u001b[38;5;124m\"\u001b[39m \u001b[38;5;241m+\u001b[39m end_date\u001b[38;5;241m.\u001b[39mstrftime(\u001b[38;5;124m'\u001b[39m\u001b[38;5;124m%\u001b[39m\u001b[38;5;124mY-\u001b[39m\u001b[38;5;124m%\u001b[39m\u001b[38;5;124mm-\u001b[39m\u001b[38;5;132;01m%d\u001b[39;00m\u001b[38;5;124m'\u001b[39m) \u001b[38;5;241m+\u001b[39m \u001b[38;5;124m\"\u001b[39m\u001b[38;5;124m&date-start=\u001b[39m\u001b[38;5;124m\"\u001b[39m \u001b[38;5;241m+\u001b[39m start_date\u001b[38;5;241m.\u001b[39mstrftime(\u001b[38;5;124m'\u001b[39m\u001b[38;5;124m%\u001b[39m\u001b[38;5;124mY-\u001b[39m\u001b[38;5;124m%\u001b[39m\u001b[38;5;124mm-\u001b[39m\u001b[38;5;132;01m%d\u001b[39;00m\u001b[38;5;124m'\u001b[39m) \u001b[38;5;241m+\u001b[39m \u001b[38;5;124m\"\u001b[39m\u001b[38;5;124m&entity-types=page&keyword=\u001b[39m\u001b[38;5;124m\"\u001b[39m \u001b[38;5;241m+\u001b[39m keyword)\n\u001b[0;32m---> 21\u001b[0m     keywords_with_num_hits[keyword] \u001b[38;5;241m=\u001b[39m \u001b[38;5;28;43mint\u001b[39;49m\u001b[43m(\u001b[49m\u001b[38;5;28;43minput\u001b[39;49m\u001b[43m(\u001b[49m\u001b[38;5;124;43m\"\u001b[39;49m\u001b[38;5;124;43mNumber of hits: \u001b[39;49m\u001b[38;5;124;43m\"\u001b[39;49m\u001b[43m)\u001b[49m\u001b[38;5;241;43m.\u001b[39;49m\u001b[43mreplace\u001b[49m\u001b[43m(\u001b[49m\u001b[38;5;124;43m\"\u001b[39;49m\u001b[38;5;124;43m,\u001b[39;49m\u001b[38;5;124;43m\"\u001b[39;49m\u001b[43m,\u001b[49m\u001b[43m \u001b[49m\u001b[38;5;124;43m\"\u001b[39;49m\u001b[38;5;124;43m\"\u001b[39;49m\u001b[43m)\u001b[49m\u001b[43m)\u001b[49m\n\u001b[1;32m     22\u001b[0m \u001b[38;5;28;01mreturn\u001b[39;00m keywords_with_num_hits\n",
      "\u001b[0;31mValueError\u001b[0m: invalid literal for int() with base 10: ''"
     ]
    }
   ],
   "source": [
    "g_keywords_with_num_articles = get_keywords_with_num_articles(get_keywords_with_num_hits(g_keywords, g_start_date, g_end_date), g_num_articles_per_time_period)\n",
    "print(g_keywords_with_num_articles)"
   ]
  },
  {
   "cell_type": "markdown",
   "id": "86f2d40b0e7c3624",
   "metadata": {},
   "source": [
    "Generate the URLs to grab the articles from. Note: number of URLs is not necessarily equal to number of articles to download."
   ]
  },
  {
   "cell_type": "code",
   "execution_count": 5,
   "id": "99eccf47094edb2c",
   "metadata": {
    "ExecuteTime": {
     "end_time": "2024-07-15T20:40:02.665775Z",
     "start_time": "2024-07-15T20:40:02.662229Z"
    }
   },
   "outputs": [
    {
     "ename": "NameError",
     "evalue": "name 'g_keywords_with_num_articles' is not defined",
     "output_type": "error",
     "traceback": [
      "\u001b[0;31m---------------------------------------------------------------------------\u001b[0m",
      "\u001b[0;31mNameError\u001b[0m                                 Traceback (most recent call last)",
      "Cell \u001b[0;32mIn[5], line 1\u001b[0m\n\u001b[0;32m----> 1\u001b[0m g_keywords_with_urls_and_num_articles \u001b[38;5;241m=\u001b[39m get_keywords_with_urls_and_num_articles(\u001b[43mg_keywords_with_num_articles\u001b[49m, g_start_date, g_end_date)\n\u001b[1;32m      2\u001b[0m \u001b[38;5;28mprint\u001b[39m(\u001b[38;5;124m\"\u001b[39m\u001b[38;5;124mGenerated \u001b[39m\u001b[38;5;124m\"\u001b[39m \u001b[38;5;241m+\u001b[39m \u001b[38;5;28mstr\u001b[39m(\u001b[38;5;28mlen\u001b[39m(g_keywords_with_urls_and_num_articles)) \u001b[38;5;241m+\u001b[39m \u001b[38;5;124m\"\u001b[39m\u001b[38;5;124m URLs\u001b[39m\u001b[38;5;124m\"\u001b[39m)\n",
      "\u001b[0;31mNameError\u001b[0m: name 'g_keywords_with_num_articles' is not defined"
     ]
    }
   ],
   "source": [
    "g_keywords_with_urls_and_num_articles = get_keywords_with_urls_and_num_articles(g_keywords_with_num_articles, g_start_date, g_end_date)\n",
    "print(\"Generated \" + str(len(g_keywords_with_urls_and_num_articles)) + \" URLs\")"
   ]
  },
  {
   "cell_type": "markdown",
   "id": "9fde9da22253ab7c",
   "metadata": {},
   "source": [
    "Utility to guide users in downloading articles. Place articles in a folder with the same name as the keyword, which will be in the \"articles\" folder. Name the file with the date in the format \"YYYY-MM-DD\""
   ]
  },
  {
   "cell_type": "code",
   "execution_count": 5,
   "id": "804d714547350bd3",
   "metadata": {
    "ExecuteTime": {
     "end_time": "2024-07-15T20:40:31.008615Z",
     "start_time": "2024-07-15T20:40:04.953104Z"
    }
   },
   "outputs": [],
   "source": [
    "run_article_download_helper(g_keywords_with_urls_and_num_articles)"
   ]
  },
  {
   "cell_type": "markdown",
   "id": "8e786f28",
   "metadata": {},
   "source": [
    "Load NLP"
   ]
  },
  {
   "cell_type": "code",
   "execution_count": 19,
   "id": "328b156d",
   "metadata": {},
   "outputs": [
    {
     "name": "stderr",
     "output_type": "stream",
     "text": [
      "/Users/christopher/Documents/DataspellProjects/american-print-narratives-of-east-asians/.venv/lib/python3.12/site-packages/transformers/models/auto/modeling_auto.py:1731: FutureWarning: The class `AutoModelWithLMHead` is deprecated and will be removed in a future version. Please use `AutoModelForCausalLM` for causal language models, `AutoModelForMaskedLM` for masked language models and `AutoModelForSeq2SeqLM` for encoder-decoder models.\n",
      "  warnings.warn(\n"
     ]
    }
   ],
   "source": [
    "nlp_sentence_segmentation = spacy.load(\"en_core_web_trf\")\n",
    "nlp_sentiment_analysis = spacy.load(\"en_core_web_trf\")\n",
    "nlp_sentiment_analysis.add_pipe(\"spacytextblob\")\n",
    "\n",
    "tokenizer = AutoTokenizer.from_pretrained(\"mrm8488/t5-base-finetuned-emotion\")\n",
    "model = AutoModelWithLMHead.from_pretrained(\"mrm8488/t5-base-finetuned-emotion\")\n",
    "\n",
    "\n",
    "# Taken from https://huggingface.co/mrm8488/t5-base-finetuned-emotion\n",
    "def get_emotion(text):\n",
    "  input_ids = tokenizer.encode(text + '</s>', return_tensors='pt')\n",
    "  output = model.generate(input_ids=input_ids, max_length=2)\n",
    "  dec = [tokenizer.decode(ids) for ids in output]\n",
    "  label = dec[0]\n",
    "  return str(label).replace(\"<pad> \", \"\")\n",
    "\n",
    "\n",
    "def get_all_contexts_for_keywords(articles_dir_path, time_period_list):\n",
    "    keywords_with_contexts_by_time_period = {}\n",
    "    for time_period in time_period_list:\n",
    "        keywords_with_contexts_by_time_period[time_period] = {}\n",
    "        time_period_dir_path = articles_dir_path / str(time_period)\n",
    "        for articles_by_keyword_dir_path in time_period_dir_path.rglob(\"*\"):\n",
    "            if articles_by_keyword_dir_path.is_dir():\n",
    "                keyword = articles_by_keyword_dir_path.name\n",
    "                keywords_with_contexts_by_time_period[time_period][keyword] = []\n",
    "                for article_path in articles_by_keyword_dir_path.rglob(\"*\"):\n",
    "                    if article_path.is_file():\n",
    "                        newspaper_name, date = get_info_from_file_stem(article_path.stem)\n",
    "                        img = cv2.imread(article_path, cv2.IMREAD_GRAYSCALE)\n",
    "                        blur = cv2.GaussianBlur(img,(5, 5), 0)\n",
    "                        th3 = cv2.threshold(blur, 0, 255, cv2.THRESH_BINARY + cv2.THRESH_OTSU)[1]\n",
    "                        text = pytesseract.image_to_string(th3)\n",
    "                        cleaned_text = cleaned_text = re.sub(r'\\s+', ' ', text.replace(\" |\", \"\").replace(\"|\", \"\").replace(\"-\\n\", \"\").replace(\"\\n\", \" \"))\n",
    "                        keywords_with_contexts_by_time_period[time_period][keyword].append({\n",
    "                            \"newspaper\": newspaper_name,\n",
    "                            \"date\": date.strftime('%Y-%m-%d'),\n",
    "                            \"keyword\": keyword,\n",
    "                            \"text\": cleaned_text\n",
    "                        })\n",
    "    return keywords_with_contexts_by_time_period\n",
    "\n",
    "\n",
    "def run_analysis_from_contexts(time_period_list, contexts_dir_path):\n",
    "    keywords_with_contexts_and_analysis_by_time_period = {}\n",
    "    for time_block_number in time_period_list:\n",
    "        keywords_with_contexts_and_analysis_by_time_period[time_block_number] = {}\n",
    "        with open(contexts_dir_path / f\"{time_block_number}.json\") as contexts_file:\n",
    "            keywords_with_contexts = json.load(contexts_file)\n",
    "            for keyword, contexts in keywords_with_contexts.items():\n",
    "                keywords_with_contexts_and_analysis_by_time_period[time_block_number][keyword] = []\n",
    "                for context in contexts:\n",
    "                    doc = nlp_sentiment_analysis(context['text'])\n",
    "                    word_frequency = defaultdict(int)\n",
    "                    for token in doc:\n",
    "                        if token.is_alpha and not token.is_stop:\n",
    "                            word_frequency[token.text.lower()] += 1\n",
    "                    context['polarity'] = doc._.blob.polarity\n",
    "                    context['subjectivity'] = doc._.blob.subjectivity\n",
    "                    context['word_frequency'] = word_frequency\n",
    "                    context['emotion'] = get_emotion(context['text'])\n",
    "                    keywords_with_contexts_and_analysis_by_time_period[time_block_number][keyword].append(context)\n",
    "    return keywords_with_contexts_and_analysis_by_time_period"
   ]
  },
  {
   "cell_type": "markdown",
   "id": "d5cb5995791464e4",
   "metadata": {},
   "source": [
    "Get contexts surrounding keywords with OCR and sentence segmentation. Provide a list of numbers (e.g. 1, 2, 3) and/or a range (e.g. 10-15). Write to file in all_contexts"
   ]
  },
  {
   "cell_type": "code",
   "execution_count": 7,
   "id": "ee4c4df77f465eab",
   "metadata": {},
   "outputs": [],
   "source": [
    "g_articles_dir_path = Path.cwd() / 'articles'\n",
    "write_time_period_sorted_info_to_files(get_all_contexts_for_keywords(g_articles_dir_path, parse_time_block_str(input(\"Enter time periods. Provide a list of numbers (e.g. 1, 2, 3) and/or a range (e.g. 10-15).\"))), Path.cwd() / 'uncorrected_contexts')"
   ]
  },
  {
   "cell_type": "markdown",
   "id": "7f3f8a21c8a56af7",
   "metadata": {},
   "source": [
    "Read in contexts from JSON file for analysis, perform and output to results"
   ]
  },
  {
   "cell_type": "code",
   "execution_count": 20,
   "id": "a5fe77e77b86cbfe",
   "metadata": {},
   "outputs": [
    {
     "name": "stderr",
     "output_type": "stream",
     "text": [
      "Token indices sequence length is longer than the specified maximum sequence length for this model (526 > 512). Running this sequence through the model will result in indexing errors\n"
     ]
    }
   ],
   "source": [
    "write_time_period_sorted_info_to_files(run_analysis_from_contexts(parse_time_block_str(input(\"Enter time periods for sentiment analysis. Provide a list of numbers (e.g. 1, 2, 3) and/or a range (e.g. 10-15).\")), Path.cwd() / 'contexts'), Path.cwd() / 'results')"
   ]
  },
  {
   "cell_type": "markdown",
   "id": "a2f719dc",
   "metadata": {},
   "source": [
    "Compile and display data"
   ]
  },
  {
   "cell_type": "code",
   "execution_count": 27,
   "id": "fbec2551",
   "metadata": {},
   "outputs": [
    {
     "data": {
      "image/png": "[encoded data removed]",
      "text/plain": [
       "<Figure size 640x480 with 1 Axes>"
      ]
     },
     "metadata": {},
     "output_type": "display_data"
    },
    {
     "data": {
      "image/png": "[encoded data removed]",
      "text/plain": [
       "<Figure size 640x480 with 1 Axes>"
      ]
     },
     "metadata": {},
     "output_type": "display_data"
    },
    {
     "ename": "ValueError",
     "evalue": "Could not interpret value `time_period` for `x`. An entry with this name does not appear in `data`.",
     "output_type": "error",
     "traceback": [
      "\u001b[0;31m---------------------------------------------------------------------------\u001b[0m",
      "\u001b[0;31mValueError\u001b[0m                                Traceback (most recent call last)",
      "Cell \u001b[0;32mIn[27], line 10\u001b[0m\n\u001b[1;32m      7\u001b[0m plt\u001b[38;5;241m.\u001b[39mshow()\n\u001b[1;32m      9\u001b[0m combined_emotion_frequencies_by_time_period \u001b[38;5;241m=\u001b[39m pd\u001b[38;5;241m.\u001b[39mDataFrame(get_combined_frequencies_by_time_period_excluding_keywords(\u001b[38;5;124m'\u001b[39m\u001b[38;5;124memotion\u001b[39m\u001b[38;5;124m'\u001b[39m, Path\u001b[38;5;241m.\u001b[39mcwd() \u001b[38;5;241m/\u001b[39m \u001b[38;5;124m'\u001b[39m\u001b[38;5;124mresults\u001b[39m\u001b[38;5;124m'\u001b[39m))\n\u001b[0;32m---> 10\u001b[0m emotion_frequencies \u001b[38;5;241m=\u001b[39m \u001b[43mso\u001b[49m\u001b[38;5;241;43m.\u001b[39;49m\u001b[43mPlot\u001b[49m\u001b[43m(\u001b[49m\u001b[43mcombined_emotion_frequencies_by_time_period\u001b[49m\u001b[43m,\u001b[49m\u001b[43m \u001b[49m\u001b[43mx\u001b[49m\u001b[38;5;241;43m=\u001b[39;49m\u001b[38;5;124;43m'\u001b[39;49m\u001b[38;5;124;43mtime_period\u001b[39;49m\u001b[38;5;124;43m'\u001b[39;49m\u001b[43m,\u001b[49m\u001b[43m \u001b[49m\u001b[43my\u001b[49m\u001b[38;5;241;43m=\u001b[39;49m\u001b[38;5;124;43m'\u001b[39;49m\u001b[38;5;124;43mfrequency\u001b[39;49m\u001b[38;5;124;43m'\u001b[39;49m\u001b[43m)\u001b[49m\u001b[38;5;241m.\u001b[39madd(so\u001b[38;5;241m.\u001b[39mBar(), so\u001b[38;5;241m.\u001b[39mCount(), so\u001b[38;5;241m.\u001b[39mStack())\n\u001b[1;32m     11\u001b[0m \u001b[38;5;28mprint\u001b[39m(combined_emotion_frequencies_by_time_period)\n\u001b[1;32m     12\u001b[0m emotion_frequencies\u001b[38;5;241m.\u001b[39mshow()\n",
      "File \u001b[0;32m~/Documents/DataspellProjects/american-print-narratives-of-east-asians/.venv/lib/python3.12/site-packages/seaborn/_core/plot.py:320\u001b[0m, in \u001b[0;36mPlot.__init__\u001b[0;34m(self, data, *args, **variables)\u001b[0m\n\u001b[1;32m    317\u001b[0m     err \u001b[38;5;241m=\u001b[39m \u001b[38;5;124mf\u001b[39m\u001b[38;5;124m\"\u001b[39m\u001b[38;5;124mPlot() got unexpected keyword argument(s): \u001b[39m\u001b[38;5;132;01m{\u001b[39;00m\u001b[38;5;124m'\u001b[39m\u001b[38;5;124m, \u001b[39m\u001b[38;5;124m'\u001b[39m\u001b[38;5;241m.\u001b[39mjoin(unknown)\u001b[38;5;132;01m}\u001b[39;00m\u001b[38;5;124m\"\u001b[39m\n\u001b[1;32m    318\u001b[0m     \u001b[38;5;28;01mraise\u001b[39;00m \u001b[38;5;167;01mTypeError\u001b[39;00m(err)\n\u001b[0;32m--> 320\u001b[0m \u001b[38;5;28mself\u001b[39m\u001b[38;5;241m.\u001b[39m_data \u001b[38;5;241m=\u001b[39m \u001b[43mPlotData\u001b[49m\u001b[43m(\u001b[49m\u001b[43mdata\u001b[49m\u001b[43m,\u001b[49m\u001b[43m \u001b[49m\u001b[43mvariables\u001b[49m\u001b[43m)\u001b[49m\n\u001b[1;32m    322\u001b[0m \u001b[38;5;28mself\u001b[39m\u001b[38;5;241m.\u001b[39m_layers \u001b[38;5;241m=\u001b[39m []\n\u001b[1;32m    324\u001b[0m \u001b[38;5;28mself\u001b[39m\u001b[38;5;241m.\u001b[39m_scales \u001b[38;5;241m=\u001b[39m {}\n",
      "File \u001b[0;32m~/Documents/DataspellProjects/american-print-narratives-of-east-asians/.venv/lib/python3.12/site-packages/seaborn/_core/data.py:58\u001b[0m, in \u001b[0;36mPlotData.__init__\u001b[0;34m(self, data, variables)\u001b[0m\n\u001b[1;32m     51\u001b[0m \u001b[38;5;28;01mdef\u001b[39;00m \u001b[38;5;21m__init__\u001b[39m(\n\u001b[1;32m     52\u001b[0m     \u001b[38;5;28mself\u001b[39m,\n\u001b[1;32m     53\u001b[0m     data: DataSource,\n\u001b[1;32m     54\u001b[0m     variables: \u001b[38;5;28mdict\u001b[39m[\u001b[38;5;28mstr\u001b[39m, VariableSpec],\n\u001b[1;32m     55\u001b[0m ):\n\u001b[1;32m     57\u001b[0m     data \u001b[38;5;241m=\u001b[39m handle_data_source(data)\n\u001b[0;32m---> 58\u001b[0m     frame, names, ids \u001b[38;5;241m=\u001b[39m \u001b[38;5;28;43mself\u001b[39;49m\u001b[38;5;241;43m.\u001b[39;49m\u001b[43m_assign_variables\u001b[49m\u001b[43m(\u001b[49m\u001b[43mdata\u001b[49m\u001b[43m,\u001b[49m\u001b[43m \u001b[49m\u001b[43mvariables\u001b[49m\u001b[43m)\u001b[49m\n\u001b[1;32m     60\u001b[0m     \u001b[38;5;28mself\u001b[39m\u001b[38;5;241m.\u001b[39mframe \u001b[38;5;241m=\u001b[39m frame\n\u001b[1;32m     61\u001b[0m     \u001b[38;5;28mself\u001b[39m\u001b[38;5;241m.\u001b[39mnames \u001b[38;5;241m=\u001b[39m names\n",
      "File \u001b[0;32m~/Documents/DataspellProjects/american-print-narratives-of-east-asians/.venv/lib/python3.12/site-packages/seaborn/_core/data.py:232\u001b[0m, in \u001b[0;36mPlotData._assign_variables\u001b[0;34m(self, data, variables)\u001b[0m\n\u001b[1;32m    230\u001b[0m     \u001b[38;5;28;01melse\u001b[39;00m:\n\u001b[1;32m    231\u001b[0m         err \u001b[38;5;241m+\u001b[39m\u001b[38;5;241m=\u001b[39m \u001b[38;5;124m\"\u001b[39m\u001b[38;5;124mAn entry with this name does not appear in `data`.\u001b[39m\u001b[38;5;124m\"\u001b[39m\n\u001b[0;32m--> 232\u001b[0m     \u001b[38;5;28;01mraise\u001b[39;00m \u001b[38;5;167;01mValueError\u001b[39;00m(err)\n\u001b[1;32m    234\u001b[0m \u001b[38;5;28;01melse\u001b[39;00m:\n\u001b[1;32m    235\u001b[0m \n\u001b[1;32m    236\u001b[0m     \u001b[38;5;66;03m# Otherwise, assume the value somehow represents data\u001b[39;00m\n\u001b[1;32m    237\u001b[0m \n\u001b[1;32m    238\u001b[0m     \u001b[38;5;66;03m# Ignore empty data structures\u001b[39;00m\n\u001b[1;32m    239\u001b[0m     \u001b[38;5;28;01mif\u001b[39;00m \u001b[38;5;28misinstance\u001b[39m(val, Sized) \u001b[38;5;129;01mand\u001b[39;00m \u001b[38;5;28mlen\u001b[39m(val) \u001b[38;5;241m==\u001b[39m \u001b[38;5;241m0\u001b[39m:\n",
      "\u001b[0;31mValueError\u001b[0m: Could not interpret value `time_period` for `x`. An entry with this name does not appear in `data`."
     ]
    }
   ],
   "source": [
    "average_polarity_by_time_period = get_average_by_time_period('polarity', Path.cwd() / 'results')\n",
    "sns.barplot(average_polarity_by_time_period)\n",
    "plt.show()\n",
    "\n",
    "average_subjectivity_by_time_period = get_average_by_time_period('subjectivity', Path.cwd() / 'results')\n",
    "sns.barplot(average_subjectivity_by_time_period)\n",
    "plt.show()\n",
    "\n",
    "combined_emotion_frequencies_by_time_period = pd.DataFrame(get_combined_frequencies_by_time_period_excluding_keywords('emotion', Path.cwd() / 'results'))\n",
    "# Plot dataframe with a stacked bar chart\n",
    "so.barplot(data=combined_emotion_frequencies_by_time_period, stacked=True)\n",
    "\n",
    "combined_word_frequencies_by_time_period = get_combined_frequencies_by_time_period_excluding_keywords('word_frequency', Path.cwd() / 'results')\n",
    "generate_word_clouds(combined_word_frequencies_by_time_period)\n",
    "\n"
   ]
  }
 ],
 "metadata": {
  "kernelspec": {
   "display_name": "Python 3",
   "language": "python",
   "name": "python3"
  },
  "language_info": {
   "codemirror_mode": {
    "name": "ipython",
    "version": 3
   },
   "file_extension": ".py",
   "mimetype": "text/x-python",
   "name": "python",
   "nbconvert_exporter": "python",
   "pygments_lexer": "ipython3",
   "version": "3.12.4"
  }
 },
 "nbformat": 4,
 "nbformat_minor": 5
}
