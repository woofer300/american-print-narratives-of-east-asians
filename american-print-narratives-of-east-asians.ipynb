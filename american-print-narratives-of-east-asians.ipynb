{
 "cells": [
  {
   "cell_type": "raw",
   "id": "835408f4a0fc8682",
   "metadata": {
    "vscode": {
     "languageId": "raw"
    }
   },
   "source": [
    "Configure variables and storage directories"
   ]
  },
  {
   "cell_type": "code",
   "execution_count": 4,
   "id": "edf107af",
   "metadata": {},
   "outputs": [
    {
     "name": "stdout",
     "output_type": "stream",
     "text": [
      "Number of time blocks: 35\n",
      "Number of articles to download: 700\n",
      "Start date: 1850-01-01\n",
      "End date: 1854-12-31\n",
      "Length of time period in days: 1825\n"
     ]
    }
   ],
   "source": [
    "from datetime import date\n",
    "import math\n",
    "from pathlib import Path\n",
    "\n",
    "# Configuration variables\n",
    "g_keywords = [\"chinese\", \"japanese\", \"korean\", \"okinawan\", \"taiwanese\", \"tibetan\", \"\\\"east+asian\\\"\", \"oriental\", \"chinaman\", \"chinamen\", \"jap\", \"chink\", \"coolie\", \"celestial\"]\n",
    "g_search_date_range_start = date(1850, 1, 1)\n",
    "g_search_date_range_end = date(2024, 7, 9)\n",
    "g_num_articles_per_time_period = 20\n",
    "g_time_block_range_years = 5\n",
    "\n",
    "g_search_date_range_days = (g_search_date_range_end - g_search_date_range_start).days\n",
    "g_num_time_blocks = math.ceil(g_search_date_range_days / (365 * g_time_block_range_years))\n",
    "\n",
    "print(\"Number of time blocks: \" + str(g_num_time_blocks))\n",
    "print(\"Number of articles to download: \" + str(g_num_time_blocks * g_num_articles_per_time_period))\n",
    "\n",
    "def create_directories_if_do_not_exist(directories):\n",
    "    for directory in directories:\n",
    "        directory_path = Path.cwd() / directory\n",
    "        if not directory_path.exists():\n",
    "            directory_path.mkdir()\n",
    "            print(\"Created directory: \\\"\" + directory + \"\\\"\")\n",
    "\n",
    "g_storage_directories = [\"articles\", \"contexts\", \"uncorrected_contexts\", \"results\"]\n",
    "create_directories_if_do_not_exist(g_storage_directories)\n",
    "\n",
    "g_time_block_number = int(input(\"Pick time block, 0-\" + str(g_num_time_blocks - 1) + \": \"))\n",
    "if g_time_block_number < 0 or g_time_block_number >= g_num_time_blocks:\n",
    "    print(\"Invalid time block!\")\n",
    "    exit()\n",
    "\n",
    "\n",
    "def get_starting_date(time_block_num, search_date_range_start, time_block_range_years):\n",
    "    return date(search_date_range_start.year + time_block_num * time_block_range_years, 1, 1)\n",
    "\n",
    "\n",
    "def get_ending_date(time_block_num, search_date_range_start, search_date_range_end, time_block_range_years):\n",
    "    ending_date = date(search_date_range_start.year + (time_block_num + 1) * time_block_range_years - 1, 12, 31)\n",
    "    if ending_date > search_date_range_end:\n",
    "        return search_date_range_end\n",
    "    else:\n",
    "        return ending_date\n",
    "\n",
    "\n",
    "g_start_date = get_starting_date(g_time_block_number, g_search_date_range_start, g_time_block_range_years)\n",
    "g_end_date = get_ending_date(g_time_block_number, g_search_date_range_start, g_search_date_range_end, g_time_block_range_years)\n",
    "\n",
    "print(\"Start date: \" + g_start_date.strftime('%Y-%m-%d'))\n",
    "print(\"End date: \" + g_end_date.strftime('%Y-%m-%d'))\n",
    "print(\"Length of time period in days: \" + str((g_end_date - g_start_date).days))"
   ]
  },
  {
   "cell_type": "markdown",
   "id": "fe8eaef3",
   "metadata": {},
   "source": [
    "Load functions"
   ]
  },
  {
   "cell_type": "code",
   "execution_count": 5,
   "id": "bee83284d750dae9",
   "metadata": {
    "jupyter": {
     "is_executing": true
    }
   },
   "outputs": [],
   "source": [
    "import random\n",
    "import webbrowser\n",
    "from PIL import Image\n",
    "from pytesseract import pytesseract\n",
    "import json\n",
    "import cv2\n",
    "\n",
    "\n",
    "def parse_time_block_str(time_blocks_str):\n",
    "    unprocessed_time_block_str_list = time_blocks_str.split(\", \")\n",
    "    time_block_list = []\n",
    "    for time_block_str in unprocessed_time_block_str_list:\n",
    "        if \"-\" in time_block_str:\n",
    "            time_block_range = time_block_str.split(\"-\")\n",
    "            time_block_list.extend(range(int(time_block_range[0]), int(time_block_range[1]) + 1))\n",
    "        else:\n",
    "            time_block_list.append(int(time_block_str))\n",
    "    return time_block_list\n",
    "\n",
    "\n",
    "def get_time_block_number(year, search_date_range_start, time_block_range_years):\n",
    "    return math.floor((year - search_date_range_start.year) / time_block_range_years)\n",
    "\n",
    "\n",
    "def get_keywords_with_num_hits(keywords, start_date, end_date):\n",
    "    keywords_with_num_hits = {}\n",
    "    for keyword in keywords:\n",
    "        webbrowser.open(\"https://www.newspapers.com/search/results/?country=us&date-end=\" + end_date.strftime('%Y-%m-%d') + \"&date-start=\" + start_date.strftime('%Y-%m-%d') + \"&entity-types=page&keyword=\" + keyword)\n",
    "        keywords_with_num_hits[keyword] = int(input(\"Number of hits: \").replace(\",\", \"\"))\n",
    "    return keywords_with_num_hits\n",
    "\n",
    "\n",
    "def get_keywords_with_num_articles(keywords_with_num_hits, num_articles_per_time_period):\n",
    "    total_hits = sum(keywords_with_num_hits.values())\n",
    "    article_remainders = []\n",
    "    keywords_with_num_articles = {}\n",
    "    for keyword, hits in keywords_with_num_hits.items():\n",
    "        keywords_with_num_articles[keyword] = int((hits / total_hits) * num_articles_per_time_period)\n",
    "        article_remainders.append((keyword, ((hits / total_hits) * num_articles_per_time_period) % 1))\n",
    "    article_remainders.sort(key=lambda keyword_with_article_remainder: keyword_with_article_remainder[1], reverse=True)\n",
    "    num_searches_short = num_articles_per_time_period - sum(keywords_with_num_articles.values())\n",
    "    for i in range(num_searches_short):\n",
    "        keywords_with_num_articles[article_remainders[i][0]] += 1\n",
    "    return keywords_with_num_articles\n",
    "\n",
    "\n",
    "def get_keywords_with_urls_and_num_articles(keywords_with_num_articles, start_date, end_date):\n",
    "    keywords_with_urls_and_num_articles = []\n",
    "    for keyword, num_articles in keywords_with_num_articles.items():\n",
    "        keywords_with_urls_and_num_articles.append({\n",
    "            \"keyword\": keyword,\n",
    "            \"url\": \"https://www.newspapers.com/search/results/?country=us&date-end=\" + end_date.strftime('%Y-%m-%d') + \"&date-start=\" + start_date.strftime('%Y-%m-%d') + \"&entity-types=page&keyword=\" + keyword,\n",
    "            \"num_articles\": num_articles\n",
    "        })\n",
    "    return keywords_with_urls_and_num_articles\n",
    "\n",
    "\n",
    "def run_article_download_helper(keywords_with_urls_and_num_articles):\n",
    "    for keyword_with_urls_and_num_articles in keywords_with_urls_and_num_articles:\n",
    "        if keyword_with_urls_and_num_articles[\"num_articles\"] != 0:\n",
    "            text_input = input(\"Please download \" + str(keyword_with_urls_and_num_articles[\"num_articles\"]) + \" articles with the keyword \\\"\" + keyword_with_urls_and_num_articles[\"keyword\"] + \"\\\". Press return to continue. Type \\\"stop\\\" to stop.\")\n",
    "            if text_input == \"stop\":\n",
    "                break\n",
    "            webbrowser.open(keyword_with_urls_and_num_articles[\"url\"])\n",
    "            text_input = input(\"Once you have downloaded \" + str(keyword_with_urls_and_num_articles[\"num_articles\"]) + \" articles with the keyword \\\"\" + keyword_with_urls_and_num_articles[\"keyword\"] + \"\\\", press return to continue. Type \\\"stop\\\" to stop.\")\n",
    "            if text_input == \"stop\":\n",
    "                break\n",
    "\n",
    "\n",
    "\n",
    "def get_info_from_file_stem(file_stem):\n",
    "    parts = file_stem.split('_')\n",
    "    newspaper_name_parts = []\n",
    "\n",
    "    for part in parts:\n",
    "        if part.isdigit() and len(part) == 4:\n",
    "            year_index = parts.index(part)\n",
    "            break\n",
    "        newspaper_name_parts.append(part)\n",
    "\n",
    "    newspaper_name = ' '.join(newspaper_name_parts)\n",
    "    date_published = date(int(parts[year_index]), int(parts[year_index + 1]), int(parts[year_index + 2]))\n",
    "\n",
    "    return newspaper_name, date_published\n",
    "\n",
    "\n",
    "def write_time_period_sorted_info_to_files(contexts, target_dir_path):\n",
    "    if not target_dir_path.exists():\n",
    "        target_dir_path.mkdir()\n",
    "    for time_period, time_period_info in contexts.items():\n",
    "        with open(target_dir_path / f\"{time_period}.json\", 'w+') as time_period_info_file:\n",
    "            json.dump(time_period_info, time_period_info_file, indent=4)"
   ]
  },
  {
   "cell_type": "markdown",
   "id": "43e03d19d1b347bf",
   "metadata": {},
   "source": [
    "Get the number of articles needed for each keyword by pasting in the number of hits for each keyword"
   ]
  },
  {
   "cell_type": "code",
   "execution_count": 24,
   "id": "a11c28d3daf609a6",
   "metadata": {
    "ExecuteTime": {
     "end_time": "2024-07-15T20:41:26.957943Z",
     "start_time": "2024-07-15T20:41:18.157321Z"
    }
   },
   "outputs": [
    {
     "name": "stdout",
     "output_type": "stream",
     "text": [
      "{'chinese': 9, 'japanese': 8, 'korean': 0, 'okinawan': 0, 'taiwanese': 0, 'tibetan': 0, '\"east+asian\"': 0, 'oriental': 0, 'chinaman': 2, 'chinamen': 1, 'jap': 0, 'chink': 0, 'coolie': 0, 'celestial': 0}\n"
     ]
    }
   ],
   "source": [
    "g_keywords_with_num_articles = get_keywords_with_num_articles(get_keywords_with_num_hits(g_keywords, g_start_date, g_end_date), g_num_articles_per_time_period)\n",
    "print(g_keywords_with_num_articles)"
   ]
  },
  {
   "cell_type": "markdown",
   "id": "86f2d40b0e7c3624",
   "metadata": {},
   "source": [
    "Generate the URLs to grab the articles from. Note: number of URLs is not necessarily equal to number of articles to download."
   ]
  },
  {
   "cell_type": "code",
   "execution_count": 25,
   "id": "99eccf47094edb2c",
   "metadata": {
    "ExecuteTime": {
     "end_time": "2024-07-15T20:40:02.665775Z",
     "start_time": "2024-07-15T20:40:02.662229Z"
    }
   },
   "outputs": [
    {
     "name": "stdout",
     "output_type": "stream",
     "text": [
      "Generated 14 URLs\n"
     ]
    }
   ],
   "source": [
    "g_keywords_with_urls_and_num_articles = get_keywords_with_urls_and_num_articles(g_keywords_with_num_articles, g_start_date, g_end_date)\n",
    "print(\"Generated \" + str(len(g_keywords_with_urls_and_num_articles)) + \" URLs\")"
   ]
  },
  {
   "cell_type": "markdown",
   "id": "9fde9da22253ab7c",
   "metadata": {},
   "source": [
    "Utility to guide users in downloading articles. Place articles in a folder with the same name as the keyword, which will be in the \"articles\" folder. Name the file with the date in the format \"YYYY-MM-DD\""
   ]
  },
  {
   "cell_type": "code",
   "execution_count": 26,
   "id": "804d714547350bd3",
   "metadata": {
    "ExecuteTime": {
     "end_time": "2024-07-15T20:40:31.008615Z",
     "start_time": "2024-07-15T20:40:04.953104Z"
    }
   },
   "outputs": [],
   "source": [
    "run_article_download_helper(g_keywords_with_urls_and_num_articles)"
   ]
  },
  {
   "cell_type": "markdown",
   "id": "8e786f28",
   "metadata": {},
   "source": [
    "Load NLP"
   ]
  },
  {
   "cell_type": "code",
   "execution_count": 6,
   "id": "328b156d",
   "metadata": {},
   "outputs": [],
   "source": [
    "import spacy\n",
    "from spacytextblob.spacytextblob import SpacyTextBlob\n",
    "import numpy as np\n",
    "import re\n",
    "\n",
    "nlp_sentence_segmentation = spacy.load(\"en_core_web_trf\")\n",
    "nlp_sentiment_analysis = spacy.load(\"en_core_web_trf\")\n",
    "nlp_sentiment_analysis.add_pipe(\"spacytextblob\")\n",
    "\n",
    "\n",
    "def get_all_contexts_for_keywords(articles_dir_path, time_period_list):\n",
    "    keywords_with_contexts_by_time_period = {}\n",
    "    for time_period in time_period_list:\n",
    "        keywords_with_contexts_by_time_period[time_period] = {}\n",
    "        time_period_dir_path = articles_dir_path / str(time_period)\n",
    "        for articles_by_keyword_dir_path in time_period_dir_path.rglob(\"*\"):\n",
    "            if articles_by_keyword_dir_path.is_dir():\n",
    "                keyword = articles_by_keyword_dir_path.name\n",
    "                keywords_with_contexts_by_time_period[time_period][keyword] = []\n",
    "                for article_path in articles_by_keyword_dir_path.rglob(\"*\"):\n",
    "                    if article_path.is_file():\n",
    "                        newspaper_name, date = get_info_from_file_stem(article_path.stem)\n",
    "                        img = cv2.imread(article_path, cv2.IMREAD_GRAYSCALE)\n",
    "                        blur = cv2.GaussianBlur(img,(5, 5), 0)\n",
    "                        th3 = cv2.threshold(blur, 0, 255, cv2.THRESH_BINARY + cv2.THRESH_OTSU)[1]\n",
    "                        text = pytesseract.image_to_string(th3)\n",
    "                        cleaned_text = cleaned_text = re.sub(r'\\s+', ' ', text.replace(\" |\", \"\").replace(\"|\", \"\").replace(\"-\\n\", \"\").replace(\"\\n\", \" \"))\n",
    "                        keywords_with_contexts_by_time_period[time_period][keyword].append({\n",
    "                            \"newspaper\": newspaper_name,\n",
    "                            \"date\": date.strftime('%Y-%m-%d'),\n",
    "                            \"keyword\": keyword,\n",
    "                            \"text\": cleaned_text\n",
    "                        })\n",
    "\n",
    "\n",
    "def run_analysis_from_contexts(time_period_list):\n",
    "    keywords_with_contexts_and_analysis_by_time_period = {}\n",
    "    for time_block_number in time_period_list:\n",
    "        keywords_with_contexts_and_analysis_by_time_period[time_block_number] = {}\n",
    "        with open(Path.cwd() / \"contexts\" / f\"{time_block_number}.json\") as contexts_file:\n",
    "            keywords_with_contexts = json.load(contexts_file)\n",
    "            for keyword, contexts in keywords_with_contexts.items():\n",
    "                keywords_with_contexts_and_analysis_by_time_period[time_block_number][keyword] = []\n",
    "                for context in contexts:\n",
    "                    doc = nlp_sentiment_analysis(context['text'])\n",
    "                    context['polarity'] = doc._.blob.polarity\n",
    "                    context['subjectivity'] = doc._.blob.subjectivity\n",
    "                    keywords_with_contexts_and_analysis_by_time_period[time_block_number][keyword].append(context)\n",
    "    return keywords_with_contexts_and_analysis_by_time_period"
   ]
  },
  {
   "cell_type": "markdown",
   "id": "d5cb5995791464e4",
   "metadata": {},
   "source": [
    "Get contexts surrounding keywords with OCR and sentence segmentation. Provide a list of numbers (e.g. 1, 2, 3) and/or a range (e.g. 10-15). Write to file in all_contexts"
   ]
  },
  {
   "cell_type": "code",
   "execution_count": 44,
   "id": "ee4c4df77f465eab",
   "metadata": {},
   "outputs": [
    {
     "name": "stderr",
     "output_type": "stream",
     "text": [
      "python(26491) MallocStackLogging: can't turn off malloc stack logging because it was not enabled.\n",
      "python(26493) MallocStackLogging: can't turn off malloc stack logging because it was not enabled.\n",
      "python(26494) MallocStackLogging: can't turn off malloc stack logging because it was not enabled.\n",
      "python(26495) MallocStackLogging: can't turn off malloc stack logging because it was not enabled.\n",
      "python(26496) MallocStackLogging: can't turn off malloc stack logging because it was not enabled.\n",
      "python(26497) MallocStackLogging: can't turn off malloc stack logging because it was not enabled.\n",
      "python(26498) MallocStackLogging: can't turn off malloc stack logging because it was not enabled.\n",
      "python(26499) MallocStackLogging: can't turn off malloc stack logging because it was not enabled.\n",
      "python(26500) MallocStackLogging: can't turn off malloc stack logging because it was not enabled.\n",
      "python(26501) MallocStackLogging: can't turn off malloc stack logging because it was not enabled.\n",
      "python(26502) MallocStackLogging: can't turn off malloc stack logging because it was not enabled.\n",
      "python(26503) MallocStackLogging: can't turn off malloc stack logging because it was not enabled.\n",
      "python(26504) MallocStackLogging: can't turn off malloc stack logging because it was not enabled.\n",
      "python(26505) MallocStackLogging: can't turn off malloc stack logging because it was not enabled.\n",
      "python(26506) MallocStackLogging: can't turn off malloc stack logging because it was not enabled.\n",
      "python(26507) MallocStackLogging: can't turn off malloc stack logging because it was not enabled.\n",
      "python(26508) MallocStackLogging: can't turn off malloc stack logging because it was not enabled.\n",
      "python(26524) MallocStackLogging: can't turn off malloc stack logging because it was not enabled.\n",
      "python(26525) MallocStackLogging: can't turn off malloc stack logging because it was not enabled.\n",
      "python(26526) MallocStackLogging: can't turn off malloc stack logging because it was not enabled.\n"
     ]
    }
   ],
   "source": [
    "g_articles_dir_path = Path.cwd() / 'articles'\n",
    "write_time_period_sorted_info_to_files(get_all_contexts_for_keywords(g_articles_dir_path, parse_time_block_str(input(\"Enter time periods. Provide a list of numbers (e.g. 1, 2, 3) and/or a range (e.g. 10-15).\"))), Path.cwd() / 'uncorrected_contexts')"
   ]
  },
  {
   "cell_type": "markdown",
   "id": "7f3f8a21c8a56af7",
   "metadata": {},
   "source": [
    "Read in contexts from JSON file for analysis, perform and output to results"
   ]
  },
  {
   "cell_type": "code",
   "execution_count": 8,
   "id": "a5fe77e77b86cbfe",
   "metadata": {},
   "outputs": [],
   "source": [
    "write_time_period_sorted_info_to_files(run_analysis_from_contexts(parse_time_block_str(input(\"Enter time periods for sentiment analysis. Provide a list of numbers (e.g. 1, 2, 3) and/or a range (e.g. 10-15).\"))), Path.cwd() / 'results')"
   ]
  }
 ],
 "metadata": {
  "kernelspec": {
   "display_name": "Python 3",
   "language": "python",
   "name": "python3"
  },
  "language_info": {
   "codemirror_mode": {
    "name": "ipython",
    "version": 3
   },
   "file_extension": ".py",
   "mimetype": "text/x-python",
   "name": "python",
   "nbconvert_exporter": "python",
   "pygments_lexer": "ipython3",
   "version": "3.12.4"
  }
 },
 "nbformat": 4,
 "nbformat_minor": 5
}
