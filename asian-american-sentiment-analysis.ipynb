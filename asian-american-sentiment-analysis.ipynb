{
 "cells": [
  {
   "cell_type": "raw",
   "id": "835408f4a0fc8682",
   "metadata": {},
   "source": [
    "Configure variables"
   ]
  },
  {
   "cell_type": "code",
   "execution_count": 28,
   "id": "edf107af",
   "metadata": {},
   "outputs": [
    {
     "name": "stdout",
     "output_type": "stream",
     "text": [
      "Number of time blocks: 35\n",
      "Number of articles to download: 700\n",
      "Start date: 1850-01-01\n",
      "End date: 1854-12-31\n",
      "Length of time period in days: 1825\n"
     ]
    }
   ],
   "source": [
    "from datetime import date\n",
    "import math\n",
    "\n",
    "# Configuration variables\n",
    "g_keywords = [\"chinese\", \"japanese\", \"korean\", \"okinawan\", \"taiwanese\", \"tibetan\", \"\\\"east+asian\\\"\", \"oriental\", \"chinaman\", \"chinamen\", \"jap\", \"chink\", \"coolie\", \"celestial\"]\n",
    "g_search_date_range_start = date(1850, 1, 1)\n",
    "g_search_date_range_end = date(2024, 7, 9)\n",
    "g_num_articles_per_time_period = 20\n",
    "g_time_block_range_years = 5\n",
    "\n",
    "g_search_date_range_days = (g_search_date_range_end - g_search_date_range_start).days\n",
    "g_num_time_blocks = math.ceil(g_search_date_range_days / (365 * g_time_block_range_years))\n",
    "\n",
    "print(\"Number of time blocks: \" + str(g_num_time_blocks))\n",
    "print(\"Number of articles to download: \" + str(g_num_time_blocks * g_num_articles_per_time_period))\n",
    "\n",
    "g_time_block_number = int(input(\"Pick time block, 0-\" + str(g_num_time_blocks - 1) + \": \"))\n",
    "if g_time_block_number < 0 or g_time_block_number >= g_num_time_blocks:\n",
    "    print(\"Invalid time block!\")\n",
    "    exit()\n",
    "\n",
    "\n",
    "def get_starting_date(time_block_num, search_date_range_start, time_block_range_years):\n",
    "    return date(search_date_range_start.year + time_block_num * time_block_range_years, 1, 1)\n",
    "\n",
    "\n",
    "def get_ending_date(time_block_num, search_date_range_start, search_date_range_end, time_block_range_years):\n",
    "    ending_date = date(search_date_range_start.year + (time_block_num + 1) * time_block_range_years - 1, 12, 31)\n",
    "    if ending_date > search_date_range_end:\n",
    "        return search_date_range_end\n",
    "    else:\n",
    "        return ending_date\n",
    "\n",
    "\n",
    "g_start_date = get_starting_date(g_time_block_number, g_search_date_range_start, g_time_block_range_years)\n",
    "g_end_date = get_ending_date(g_time_block_number, g_search_date_range_start, g_search_date_range_end, g_time_block_range_years)\n",
    "\n",
    "print(\"Start date: \" + g_start_date.strftime('%Y-%m-%d'))\n",
    "print(\"End date: \" + g_end_date.strftime('%Y-%m-%d'))\n",
    "print(\"Length of time period in days: \" + str((g_end_date - g_start_date).days))"
   ]
  },
  {
   "cell_type": "markdown",
   "id": "fe8eaef3",
   "metadata": {},
   "source": [
    "Load functions"
   ]
  },
  {
   "cell_type": "code",
   "execution_count": 41,
   "id": "bee83284d750dae9",
   "metadata": {
    "jupyter": {
     "is_executing": true
    }
   },
   "outputs": [],
   "source": [
    "import random\n",
    "import webbrowser\n",
    "from pathlib import Path\n",
    "from PIL import Image\n",
    "from pytesseract import pytesseract\n",
    "import json\n",
    "import cv2\n",
    "\n",
    "\n",
    "def parse_time_block_str(time_blocks_str):\n",
    "    unprocessed_time_block_str_list = time_blocks_str.split(\", \")\n",
    "    time_block_list = []\n",
    "    for time_block_str in unprocessed_time_block_str_list:\n",
    "        if \"-\" in time_block_str:\n",
    "            time_block_range = time_block_str.split(\"-\")\n",
    "            time_block_list.extend(range(int(time_block_range[0]), int(time_block_range[1]) + 1))\n",
    "        else:\n",
    "            time_block_list.append(int(time_block_str))\n",
    "    return time_block_list\n",
    "\n",
    "\n",
    "def get_time_block_number(year, search_date_range_start, time_block_range_years):\n",
    "    return math.floor((year - search_date_range_start.year) / time_block_range_years)\n",
    "\n",
    "\n",
    "def get_keywords_with_num_hits(keywords, start_date, end_date):\n",
    "    keywords_with_num_hits = {}\n",
    "    for keyword in keywords:\n",
    "        webbrowser.open(\"https://www.newspapers.com/search/results/?country=us&date-end=\" + end_date.strftime('%Y-%m-%d') + \"&date-start=\" + start_date.strftime('%Y-%m-%d') + \"&entity-types=page&keyword=\" + keyword)\n",
    "        keywords_with_num_hits[keyword] = int(input(\"Number of hits: \").replace(\",\", \"\"))\n",
    "    return keywords_with_num_hits\n",
    "\n",
    "\n",
    "def get_keywords_with_num_articles(keywords_with_num_hits, num_articles_per_time_period):\n",
    "    total_hits = sum(keywords_with_num_hits.values())\n",
    "    article_remainders = []\n",
    "    keywords_with_num_articles = {}\n",
    "    for keyword, hits in keywords_with_num_hits.items():\n",
    "        keywords_with_num_articles[keyword] = int((hits / total_hits) * num_articles_per_time_period)\n",
    "        article_remainders.append((keyword, ((hits / total_hits) * num_articles_per_time_period) % 1))\n",
    "    article_remainders.sort(key=lambda keyword_with_article_remainder: keyword_with_article_remainder[1], reverse=True)\n",
    "    num_searches_short = num_articles_per_time_period - sum(keywords_with_num_articles.values())\n",
    "    for i in range(num_searches_short):\n",
    "        keywords_with_num_articles[article_remainders[i][0]] += 1\n",
    "    return keywords_with_num_articles\n",
    "\n",
    "\n",
    "def get_keywords_with_urls_and_num_articles(keywords_with_num_articles, start_date, end_date):\n",
    "    keywords_with_urls_and_num_articles = []\n",
    "    for keyword, num_articles in keywords_with_num_articles.items():\n",
    "        keywords_with_urls_and_num_articles.append({\n",
    "            \"keyword\": keyword,\n",
    "            \"url\": \"https://www.newspapers.com/search/results/?country=us&date-end=\" + end_date.strftime('%Y-%m-%d') + \"&date-start=\" + start_date.strftime('%Y-%m-%d') + \"&entity-types=page&keyword=\" + keyword,\n",
    "            \"num_articles\": num_articles\n",
    "        })\n",
    "    return keywords_with_urls_and_num_articles\n",
    "\n",
    "\n",
    "def run_article_download_helper(keywords_with_urls_and_num_articles):\n",
    "    for keyword_with_urls_and_num_articles in keywords_with_urls_and_num_articles:\n",
    "        if keyword_with_urls_and_num_articles[\"num_articles\"] != 0:\n",
    "            text_input = input(\"Please download \" + str(keyword_with_urls_and_num_articles[\"num_articles\"]) + \" articles with the keyword \\\"\" + keyword_with_urls_and_num_articles[\"keyword\"] + \"\\\". Press return to continue. Type \\\"stop\\\" to stop.\")\n",
    "            if text_input == \"stop\":\n",
    "                break\n",
    "            webbrowser.open(keyword_with_urls_and_num_articles[\"url\"])\n",
    "            text_input = input(\"Once you have downloaded \" + str(keyword_with_urls_and_num_articles[\"num_articles\"]) + \" articles with the keyword \\\"\" + keyword_with_urls_and_num_articles[\"keyword\"] + \"\\\", press return to continue. Type \\\"stop\\\" to stop.\")\n",
    "            if text_input == \"stop\":\n",
    "                break\n",
    "\n",
    "\n",
    "\n",
    "def get_info_from_file_stem(file_stem):\n",
    "    parts = file_stem.split('_')\n",
    "    newspaper_name_parts = []\n",
    "\n",
    "    for part in parts:\n",
    "        if part.isdigit() and len(part) == 4:\n",
    "            year_index = parts.index(part)\n",
    "            break\n",
    "        newspaper_name_parts.append(part)\n",
    "\n",
    "    newspaper_name = ' '.join(newspaper_name_parts)\n",
    "    date_published = date(int(parts[year_index]), int(parts[year_index + 1]), int(parts[year_index + 2]))\n",
    "\n",
    "    return newspaper_name, date_published\n",
    "\n",
    "\n",
    "def write_contexts_to_file(contexts, target_dir_path):\n",
    "    if not target_dir_path.exists():\n",
    "        target_dir_path.mkdir()\n",
    "    for time_period, contexts_in_time_period in contexts.items():\n",
    "        with open(target_dir_path / f\"{time_period}.json\", 'w+') as contexts_file:\n",
    "            json.dump(contexts_in_time_period, contexts_file, indent=4)\n",
    "\n",
    "\n",
    "\n",
    "def from_contexts_files_sentiment_analysis_to_files(time_block_numbers):\n",
    "    for time_block_number in time_block_numbers:\n",
    "        with open('contexts/time_period_' + str(time_block_number) + \"_contexts.json\") as contexts_file:\n",
    "            contexts = json.load(contexts_file)\n",
    "            contexts_with_sentiment = {}\n",
    "            for keyword, date_and_contexts in contexts.items():\n",
    "                contexts_with_sentiment[keyword] = []\n",
    "                for date_and_context in date_and_contexts:\n",
    "                    doc = nlp_sentiment_analysis(date_and_context['context'])\n",
    "                    contexts_with_sentiment[keyword].append({                        'date': date,\n",
    "                        'polarity': doc._.blob.polarity,\n",
    "                        'subjectivity': doc._.blob.subjectivity\n",
    "                    })"
   ]
  },
  {
   "cell_type": "markdown",
   "id": "43e03d19d1b347bf",
   "metadata": {},
   "source": [
    "Get the number of articles needed for each keyword by pasting in the number of hits for each keyword"
   ]
  },
  {
   "cell_type": "code",
   "execution_count": 24,
   "id": "a11c28d3daf609a6",
   "metadata": {
    "ExecuteTime": {
     "end_time": "2024-07-15T20:41:26.957943Z",
     "start_time": "2024-07-15T20:41:18.157321Z"
    }
   },
   "outputs": [
    {
     "name": "stdout",
     "output_type": "stream",
     "text": [
      "{'chinese': 9, 'japanese': 8, 'korean': 0, 'okinawan': 0, 'taiwanese': 0, 'tibetan': 0, '\"east+asian\"': 0, 'oriental': 0, 'chinaman': 2, 'chinamen': 1, 'jap': 0, 'chink': 0, 'coolie': 0, 'celestial': 0}\n"
     ]
    }
   ],
   "source": [
    "g_keywords_with_num_articles = get_keywords_with_num_articles(get_keywords_with_num_hits(g_keywords, g_start_date, g_end_date), g_num_articles_per_time_period)\n",
    "print(g_keywords_with_num_articles)"
   ]
  },
  {
   "cell_type": "markdown",
   "id": "86f2d40b0e7c3624",
   "metadata": {},
   "source": [
    "Generate the URLs to grab the articles from. Note: number of URLs is not necessarily equal to number of articles to download."
   ]
  },
  {
   "cell_type": "code",
   "execution_count": 25,
   "id": "99eccf47094edb2c",
   "metadata": {
    "ExecuteTime": {
     "end_time": "2024-07-15T20:40:02.665775Z",
     "start_time": "2024-07-15T20:40:02.662229Z"
    }
   },
   "outputs": [
    {
     "name": "stdout",
     "output_type": "stream",
     "text": [
      "Generated 14 URLs\n"
     ]
    }
   ],
   "source": [
    "g_keywords_with_urls_and_num_articles = get_keywords_with_urls_and_num_articles(g_keywords_with_num_articles, g_start_date, g_end_date)\n",
    "print(\"Generated \" + str(len(g_keywords_with_urls_and_num_articles)) + \" URLs\")"
   ]
  },
  {
   "cell_type": "markdown",
   "id": "9fde9da22253ab7c",
   "metadata": {},
   "source": [
    "Utility to guide users in downloading articles. Place articles in a folder with the same name as the keyword, which will be in the \"articles\" folder. Name the file with the date in the format \"YYYY-MM-DD\""
   ]
  },
  {
   "cell_type": "code",
   "execution_count": 26,
   "id": "804d714547350bd3",
   "metadata": {
    "ExecuteTime": {
     "end_time": "2024-07-15T20:40:31.008615Z",
     "start_time": "2024-07-15T20:40:04.953104Z"
    }
   },
   "outputs": [],
   "source": [
    "run_article_download_helper(g_keywords_with_urls_and_num_articles)"
   ]
  },
  {
   "cell_type": "markdown",
   "id": "8e786f28",
   "metadata": {},
   "source": [
    "Load NLP"
   ]
  },
  {
   "cell_type": "code",
   "execution_count": 37,
   "id": "328b156d",
   "metadata": {},
   "outputs": [],
   "source": [
    "import spacy\n",
    "from spacytextblob.spacytextblob import SpacyTextBlob\n",
    "import numpy as np\n",
    "import re\n",
    "\n",
    "nlp_sentence_segmentation = spacy.load(\"en_core_web_trf\")\n",
    "nlp_sentiment_analysis = spacy.load(\"en_core_web_trf\")\n",
    "nlp_sentiment_analysis.add_pipe(\"spacytextblob\")\n",
    "\n",
    "\n",
    "def get_all_contexts_for_keywords(articles_dir_path, time_period_list):\n",
    "    keywords_with_contexts_by_time_period = {}\n",
    "    for time_period in time_period_list:\n",
    "        keywords_with_contexts_by_time_period[time_period] = {}\n",
    "        time_period_dir_path = articles_dir_path / str(time_period)\n",
    "        for articles_by_keyword_dir_path in time_period_dir_path.rglob(\"*\"):\n",
    "            if articles_by_keyword_dir_path.is_dir():\n",
    "                keyword = articles_by_keyword_dir_path.name\n",
    "                keywords_with_contexts_by_time_period[time_period][keyword] = []\n",
    "                for article_path in articles_by_keyword_dir_path.rglob(\"*\"):\n",
    "                    if article_path.is_file():\n",
    "                        newspaper_name, date = get_info_from_file_stem(article_path.stem)\n",
    "                        img = cv2.imread(article_path, cv2.IMREAD_GRAYSCALE)\n",
    "                        blur = cv2.GaussianBlur(img,(5, 5), 0)\n",
    "                        th3 = cv2.threshold(blur, 0, 255, cv2.THRESH_BINARY + cv2.THRESH_OTSU)[1]\n",
    "                        text = pytesseract.image_to_string(th3)\n",
    "                        cleaned_text = cleaned_text = re.sub(r'\\s+', ' ', text.replace(\" |\", \"\").replace(\"|\", \"\").replace(\"-\\n\", \"\").replace(\"\\n\", \" \"))\n",
    "                        keywords_with_contexts_by_time_period[time_period][keyword].append({\n",
    "                            \"newspaper\": newspaper_name,\n",
    "                            \"date\": date.strftime('%Y-%m-%d'),\n",
    "                            \"keyword\": keyword,\n",
    "                            \"text\": cleaned_text\n",
    "                        })\n",
    "    return keywords_with_contexts_by_time_period"
   ]
  },
  {
   "cell_type": "markdown",
   "id": "d5cb5995791464e4",
   "metadata": {},
   "source": [
    "Get contexts surrounding keywords with OCR and sentence segmentation. Provide a list of numbers (e.g. 1, 2, 3) and/or a range (e.g. 10-15). Write to file in all_contexts"
   ]
  },
  {
   "cell_type": "code",
   "execution_count": 42,
   "id": "ee4c4df77f465eab",
   "metadata": {},
   "outputs": [
    {
     "name": "stderr",
     "output_type": "stream",
     "text": [
      "python(25887) MallocStackLogging: can't turn off malloc stack logging because it was not enabled.\n",
      "python(25888) MallocStackLogging: can't turn off malloc stack logging because it was not enabled.\n",
      "python(25889) MallocStackLogging: can't turn off malloc stack logging because it was not enabled.\n",
      "python(25890) MallocStackLogging: can't turn off malloc stack logging because it was not enabled.\n",
      "python(25891) MallocStackLogging: can't turn off malloc stack logging because it was not enabled.\n",
      "python(25892) MallocStackLogging: can't turn off malloc stack logging because it was not enabled.\n",
      "python(25893) MallocStackLogging: can't turn off malloc stack logging because it was not enabled.\n",
      "python(25894) MallocStackLogging: can't turn off malloc stack logging because it was not enabled.\n",
      "python(25895) MallocStackLogging: can't turn off malloc stack logging because it was not enabled.\n",
      "python(25896) MallocStackLogging: can't turn off malloc stack logging because it was not enabled.\n",
      "python(25898) MallocStackLogging: can't turn off malloc stack logging because it was not enabled.\n",
      "python(25899) MallocStackLogging: can't turn off malloc stack logging because it was not enabled.\n",
      "python(25900) MallocStackLogging: can't turn off malloc stack logging because it was not enabled.\n",
      "python(25902) MallocStackLogging: can't turn off malloc stack logging because it was not enabled.\n",
      "python(25903) MallocStackLogging: can't turn off malloc stack logging because it was not enabled.\n",
      "python(25905) MallocStackLogging: can't turn off malloc stack logging because it was not enabled.\n",
      "python(25906) MallocStackLogging: can't turn off malloc stack logging because it was not enabled.\n",
      "python(25908) MallocStackLogging: can't turn off malloc stack logging because it was not enabled.\n",
      "python(25914) MallocStackLogging: can't turn off malloc stack logging because it was not enabled.\n",
      "python(25916) MallocStackLogging: can't turn off malloc stack logging because it was not enabled.\n"
     ]
    }
   ],
   "source": [
    "g_articles_dir_path = Path.cwd() / 'articles'\n",
    "write_contexts_to_file(get_all_contexts_for_keywords(g_articles_dir_path, parse_time_block_str(input(\"Enter time periods. Provide a list of numbers (e.g. 1, 2, 3) and/or a range (e.g. 10-15).\"))), Path.cwd() / 'contexts')"
   ]
  },
  {
   "cell_type": "markdown",
   "id": "40fb856214faa28c",
   "metadata": {},
   "source": [
    "Narrow down contexts to only on per article. Contexts are presented to the user in a random order, and the first one that the user confirms is relevant is used. If none are confirmed, the context is replaced with a placeholder. Results are stored in a JSON file that should be manually edited to fix placeholders before moving on to analysis."
   ]
  },
  {
   "cell_type": "code",
   "execution_count": null,
   "id": "d03834a43af9fe08",
   "metadata": {},
   "outputs": [],
   "source": [
    "write_contexts_to_file(narrow_contexts(g_contexts_for_keywords), int(input(\"Pick time block number\")))"
   ]
  },
  {
   "cell_type": "markdown",
   "id": "7f3f8a21c8a56af7",
   "metadata": {},
   "source": [
    "Read in contexts from JSON file for sentiment analysis. Result is a dictionary with a dictionary with keys \"date\", \"polarity\", and \"subjectivity\" for each \"keyword\"."
   ]
  },
  {
   "cell_type": "code",
   "execution_count": 9,
   "id": "a5fe77e77b86cbfe",
   "metadata": {},
   "outputs": [],
   "source": [
    "import cv2\n",
    "import numpy as np\n",
    "\n",
    "# Step 1: Load the image\n",
    "image = cv2.imread(Path.cwd() / 'articles/0/indian/The_Washington_Union_1852_04_22_1.jpg')\n",
    "\n",
    "# Step 2: Convert to grayscale\n",
    "gray = cv2.cvtColor(image, cv2.COLOR_BGR2GRAY)\n",
    "\n",
    "# Step 3: Detect lines using Hough Transform\n",
    "edges = cv2.Canny(gray, 50, 150, apertureSize=3)\n",
    "lines = cv2.HoughLinesP(edges, 1, np.pi/180, threshold=100, minLineLength=100, maxLineGap=10)\n",
    "\n",
    "# Initialize a mask with zeros (black)\n",
    "mask = np.zeros_like(gray)\n",
    "\n",
    "# Draw the lines on the mask\n",
    "for line in lines:\n",
    "    x1, y1, x2, y2 = line[0]\n",
    "    cv2.line(mask, (x1, y1), (x2, y2), (255), thickness=5)\n",
    "\n",
    "# Step 4: Create masks for each section (invert mask for segmenting)\n",
    "mask = cv2.bitwise_not(mask)\n",
    "\n",
    "# Step 5: Find contours and segment the image\n",
    "contours, _ = cv2.findContours(mask, cv2.RETR_EXTERNAL, cv2.CHAIN_APPROX_SIMPLE)\n",
    "for i, contour in enumerate(contours):\n",
    "    x, y, w, h = cv2.boundingRect(contour)\n",
    "    section = image[y:y+h, x:x+w]\n",
    "    cv2.imwrite(f'section_{i}.jpg', section)  # Save each section as a separate image\n",
    "\n",
    "# Optionally display an image or section\n",
    "cv2.imshow('Section', section)\n",
    "cv2.waitKey(0)\n",
    "cv2.destroyAllWindows()\n"
   ]
  }
 ],
 "metadata": {
  "kernelspec": {
   "display_name": "Python 3",
   "language": "python",
   "name": "python3"
  },
  "language_info": {
   "codemirror_mode": {
    "name": "ipython",
    "version": 3
   },
   "file_extension": ".py",
   "mimetype": "text/x-python",
   "name": "python",
   "nbconvert_exporter": "python",
   "pygments_lexer": "ipython3",
   "version": "3.12.4"
  }
 },
 "nbformat": 4,
 "nbformat_minor": 5
}
