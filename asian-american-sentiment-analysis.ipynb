{
 "cells": [
  {
   "metadata": {},
   "cell_type": "raw",
   "source": "Configure variables",
   "id": "835408f4a0fc8682"
  },
  {
   "metadata": {
    "ExecuteTime": {
     "end_time": "2024-07-15T20:41:15.383460Z",
     "start_time": "2024-07-15T20:41:13.686948Z"
    }
   },
   "cell_type": "code",
   "source": [
    "import math\n",
    "from datetime import date\n",
    "import webbrowser\n",
    "\n",
    "# Configuration variables\n",
    "g_keywords = [\"chinese\", \"chinaman\", \"chink\"]\n",
    "g_search_date_range_start = date(1850, 1, 1)\n",
    "g_search_date_range_end = date(2024, 7, 9)\n",
    "g_num_articles_per_time_period = 50\n",
    "g_time_block_range_years = 5\n",
    "\n",
    "g_search_date_range_days = (g_search_date_range_end - g_search_date_range_start).days\n",
    "g_num_time_blocks = math.ceil(g_search_date_range_days / (365 * g_time_block_range_years))\n",
    "\n",
    "def get_time_block_number(year, search_date_range_start, time_block_range_years):\n",
    "    return math.floor((year - search_date_range_start.year) / time_block_range_years)\n",
    "\n",
    "def get_starting_date(time_block_num, search_date_range_start, time_block_range_years):\n",
    "    return date(search_date_range_start.year + time_block_num * time_block_range_years, 1, 1)\n",
    "\n",
    "def get_ending_date(time_block_num, search_date_range_start, search_date_range_end, time_block_range_years):\n",
    "    ending_date = date(search_date_range_start.year + (time_block_num + 1) * time_block_range_years - 1, 12, 31)\n",
    "    if ending_date > search_date_range_end:\n",
    "        return search_date_range_end\n",
    "    else:\n",
    "        return ending_date\n",
    "\n",
    "def get_keywords_with_num_hits(keywords, start_date, end_date):\n",
    "    keywords_with_num_hits = {}\n",
    "    for keyword in keywords:\n",
    "        webbrowser.open(\"https://www.newspapers.com/search/results/?country=us&date-end=\" + end_date.strftime('%Y-%m-%d') + \"&date-start=\" + start_date.strftime('%Y-%m-%d') + \"&entity-types=page&keyword=\" + keyword)\n",
    "        keywords_with_num_hits[keyword] = int(input(\"Number of hits: \").replace(\",\", \"\"))\n",
    "    return keywords_with_num_hits\n",
    "\n",
    "def get_keywords_with_num_articles(keywords_with_num_hits, num_articles_per_time_period):\n",
    "    total_hits = sum(keywords_with_num_hits.values())\n",
    "    article_remainders = []\n",
    "    keywords_with_num_articles = {}\n",
    "    for keyword, hits in keywords_with_num_hits.items():\n",
    "        keywords_with_num_articles[keyword] = int((hits / total_hits) * num_articles_per_time_period)\n",
    "        article_remainders.append((keyword, ((hits / total_hits) * num_articles_per_time_period) % 1))\n",
    "    article_remainders.sort(key=lambda keyword_with_article_remainder: keyword_with_article_remainder[1], reverse=True)\n",
    "    num_searches_short = num_articles_per_time_period - sum(keywords_with_num_articles.values())\n",
    "    for i in range(num_searches_short):\n",
    "        keywords_with_num_articles[article_remainders[i][0]] += 1\n",
    "    return keywords_with_num_articles\n",
    "\n",
    "def get_keywords_with_urls_and_num_articles(keywords_with_num_articles, start_date, end_date):\n",
    "    keywords_with_urls_and_num_articles = []\n",
    "    for keyword, num_articles in keywords_with_num_articles.items():\n",
    "        keywords_with_urls_and_num_articles.append({\n",
    "            \"keyword\": keyword,\n",
    "            \"url\": \"https://www.newspapers.com/search/results/?country=us&date-end=\" + end_date.strftime('%Y-%m-%d') + \"&date-start=\" + start_date.strftime('%Y-%m-%d') + \"&entity-types=page&keyword=\" + keyword,\n",
    "            \"num_articles\": num_articles\n",
    "        })\n",
    "    return keywords_with_urls_and_num_articles\n",
    "\n",
    "print(\"Number of time blocks: \" + str(g_num_time_blocks))\n",
    "print(\"Number of articles to download: \" + str(g_num_time_blocks * g_num_articles_per_time_period))\n",
    "\n",
    "g_time_block_number = int(input(\"Pick time block, 0-\" + str(g_num_time_blocks - 1) + \": \"))\n",
    "if g_time_block_number < 0 or g_time_block_number >= g_num_time_blocks:\n",
    "    print(\"Invalid time block!\")\n",
    "    exit()\n",
    "\n",
    "g_start_date = get_starting_date(g_time_block_number, g_search_date_range_start, g_time_block_range_years)\n",
    "g_end_date = get_ending_date(g_time_block_number, g_search_date_range_start, g_search_date_range_end, g_time_block_range_years)\n",
    "\n",
    "print(\"Start date: \" + g_start_date.strftime('%Y-%m-%d'))\n",
    "print(\"End date: \" + g_end_date.strftime('%Y-%m-%d'))\n",
    "print(\"Length of time period in days: \" + str((g_end_date - g_start_date).days))"
   ],
   "id": "bee83284d750dae9",
   "outputs": [
    {
     "name": "stdout",
     "output_type": "stream",
     "text": [
      "Number of time blocks: 35\n",
      "Number of articles to download: 1750\n",
      "Start date: 1850-01-01\n",
      "End date: 1854-12-31\n",
      "Length of time period in days: 1825\n"
     ]
    }
   ],
   "execution_count": 13
  },
  {
   "metadata": {},
   "cell_type": "markdown",
   "source": "Get the number of articles needed for each keyword by pasting in the number of hits for each keyword",
   "id": "43e03d19d1b347bf"
  },
  {
   "metadata": {
    "ExecuteTime": {
     "end_time": "2024-07-15T20:41:26.957943Z",
     "start_time": "2024-07-15T20:41:18.157321Z"
    }
   },
   "cell_type": "code",
   "source": [
    "g_keywords_with_num_articles = get_keywords_with_num_articles(get_keywords_with_num_hits(g_keywords, g_start_date, g_end_date), g_num_articles_per_time_period)\n",
    "print(g_keywords_with_num_articles)"
   ],
   "id": "a11c28d3daf609a6",
   "outputs": [
    {
     "ename": "ValueError",
     "evalue": "invalid literal for int() with base 10: ''",
     "output_type": "error",
     "traceback": [
      "\u001B[0;31m---------------------------------------------------------------------------\u001B[0m",
      "\u001B[0;31mValueError\u001B[0m                                Traceback (most recent call last)",
      "Cell \u001B[0;32mIn[14], line 1\u001B[0m\n\u001B[0;32m----> 1\u001B[0m g_keywords_with_num_articles \u001B[38;5;241m=\u001B[39m get_keywords_with_num_articles(\u001B[43mget_keywords_with_num_hits\u001B[49m\u001B[43m(\u001B[49m\u001B[43mg_keywords\u001B[49m\u001B[43m,\u001B[49m\u001B[43m \u001B[49m\u001B[43mg_start_date\u001B[49m\u001B[43m,\u001B[49m\u001B[43m \u001B[49m\u001B[43mg_end_date\u001B[49m\u001B[43m)\u001B[49m, g_num_articles_per_time_period)\n\u001B[1;32m      2\u001B[0m \u001B[38;5;28mprint\u001B[39m(g_keywords_with_num_articles)\n",
      "Cell \u001B[0;32mIn[13], line 32\u001B[0m, in \u001B[0;36mget_keywords_with_num_hits\u001B[0;34m(keywords, start_date, end_date)\u001B[0m\n\u001B[1;32m     30\u001B[0m \u001B[38;5;28;01mfor\u001B[39;00m keyword \u001B[38;5;129;01min\u001B[39;00m keywords:\n\u001B[1;32m     31\u001B[0m     webbrowser\u001B[38;5;241m.\u001B[39mopen(\u001B[38;5;124m\"\u001B[39m\u001B[38;5;124mhttps://www.newspapers.com/search/results/?country=us&date-end=\u001B[39m\u001B[38;5;124m\"\u001B[39m \u001B[38;5;241m+\u001B[39m end_date\u001B[38;5;241m.\u001B[39mstrftime(\u001B[38;5;124m'\u001B[39m\u001B[38;5;124m%\u001B[39m\u001B[38;5;124mY-\u001B[39m\u001B[38;5;124m%\u001B[39m\u001B[38;5;124mm-\u001B[39m\u001B[38;5;132;01m%d\u001B[39;00m\u001B[38;5;124m'\u001B[39m) \u001B[38;5;241m+\u001B[39m \u001B[38;5;124m\"\u001B[39m\u001B[38;5;124m&date-start=\u001B[39m\u001B[38;5;124m\"\u001B[39m \u001B[38;5;241m+\u001B[39m start_date\u001B[38;5;241m.\u001B[39mstrftime(\u001B[38;5;124m'\u001B[39m\u001B[38;5;124m%\u001B[39m\u001B[38;5;124mY-\u001B[39m\u001B[38;5;124m%\u001B[39m\u001B[38;5;124mm-\u001B[39m\u001B[38;5;132;01m%d\u001B[39;00m\u001B[38;5;124m'\u001B[39m) \u001B[38;5;241m+\u001B[39m \u001B[38;5;124m\"\u001B[39m\u001B[38;5;124m&entity-types=page&keyword=\u001B[39m\u001B[38;5;124m\"\u001B[39m \u001B[38;5;241m+\u001B[39m keyword)\n\u001B[0;32m---> 32\u001B[0m     keywords_with_num_hits[keyword] \u001B[38;5;241m=\u001B[39m \u001B[38;5;28;43mint\u001B[39;49m\u001B[43m(\u001B[49m\u001B[38;5;28;43minput\u001B[39;49m\u001B[43m(\u001B[49m\u001B[38;5;124;43m\"\u001B[39;49m\u001B[38;5;124;43mNumber of hits: \u001B[39;49m\u001B[38;5;124;43m\"\u001B[39;49m\u001B[43m)\u001B[49m\u001B[38;5;241;43m.\u001B[39;49m\u001B[43mreplace\u001B[49m\u001B[43m(\u001B[49m\u001B[38;5;124;43m\"\u001B[39;49m\u001B[38;5;124;43m,\u001B[39;49m\u001B[38;5;124;43m\"\u001B[39;49m\u001B[43m,\u001B[49m\u001B[43m \u001B[49m\u001B[38;5;124;43m\"\u001B[39;49m\u001B[38;5;124;43m\"\u001B[39;49m\u001B[43m)\u001B[49m\u001B[43m)\u001B[49m\n\u001B[1;32m     33\u001B[0m \u001B[38;5;28;01mreturn\u001B[39;00m keywords_with_num_hits\n",
      "\u001B[0;31mValueError\u001B[0m: invalid literal for int() with base 10: ''"
     ]
    }
   ],
   "execution_count": 14
  },
  {
   "metadata": {},
   "cell_type": "markdown",
   "source": "Generate the URLs to grab the articles from",
   "id": "86f2d40b0e7c3624"
  },
  {
   "metadata": {
    "ExecuteTime": {
     "end_time": "2024-07-15T20:40:02.665775Z",
     "start_time": "2024-07-15T20:40:02.662229Z"
    }
   },
   "cell_type": "code",
   "source": [
    "g_keywords_with_urls_and_num_articles = get_keywords_with_urls_and_num_articles(g_keywords_with_num_articles, g_start_date, g_end_date)\n",
    "print(\"Generated \" + str(len(g_keywords_with_urls_and_num_articles)) + \" URLs\")"
   ],
   "id": "99eccf47094edb2c",
   "outputs": [
    {
     "name": "stdout",
     "output_type": "stream",
     "text": [
      "Generated 3 URLs\n"
     ]
    }
   ],
   "execution_count": 11
  },
  {
   "metadata": {},
   "cell_type": "markdown",
   "source": "Utility to guide users in downloading articles",
   "id": "9fde9da22253ab7c"
  },
  {
   "metadata": {
    "ExecuteTime": {
     "end_time": "2024-07-15T20:40:31.008615Z",
     "start_time": "2024-07-15T20:40:04.953104Z"
    }
   },
   "cell_type": "code",
   "source": [
    "for keyword_with_urls_and_num_articles in g_keywords_with_urls_and_num_articles:\n",
    "    text_input = input(\"Please download \" + str(keyword_with_urls_and_num_articles[\"num_articles\"]) + \" articles with the keyword \\\"\" + keyword_with_urls_and_num_articles[\"keyword\"] + \"\\\". Press return to continue. Type \\\"stop\\\" to stop.\")\n",
    "    if text_input == \"stop\":\n",
    "        break\n",
    "    webbrowser.open(keyword_with_urls_and_num_articles[\"url\"])\n",
    "    text_input = input(\"Press return to continue. Type \\\"stop\\\" to stop.\")\n",
    "    if text_input == \"stop\":\n",
    "        break"
   ],
   "id": "804d714547350bd3",
   "outputs": [],
   "execution_count": 12
  },
  {
   "metadata": {},
   "cell_type": "markdown",
   "source": "",
   "id": "648ad49c5f1c0e78"
  }
 ],
 "metadata": {
  "kernelspec": {
   "display_name": "Python 3",
   "language": "python",
   "name": "python3"
  },
  "language_info": {
   "codemirror_mode": {
    "name": "ipython",
    "version": 2
   },
   "file_extension": ".py",
   "mimetype": "text/x-python",
   "name": "python",
   "nbconvert_exporter": "python",
   "pygments_lexer": "ipython2",
   "version": "2.7.6"
  }
 },
 "nbformat": 4,
 "nbformat_minor": 5
}
