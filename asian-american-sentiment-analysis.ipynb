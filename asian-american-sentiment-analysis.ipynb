{
 "cells": [
  {
   "metadata": {
    "ExecuteTime": {
     "end_time": "2024-07-09T21:20:18.140240Z",
     "start_time": "2024-07-09T21:20:10.614299Z"
    }
   },
   "cell_type": "code",
   "source": [
    "import undetected_chromedriver as uc\n",
    "\n",
    "chrome_options = uc.ChromeOptions()\n",
    "chrome_options.add_argument(\"--start-maximized\")\n",
    "\n",
    "driver = uc.Chrome(options=chrome_options, headless=False, use_subprocess=False)"
   ],
   "id": "801383add57c8551",
   "outputs": [],
   "execution_count": 34
  },
  {
   "metadata": {},
   "cell_type": "markdown",
   "source": "User must manually sign in to newspapers.com account with subscription",
   "id": "92d4db953b6cf1b5"
  },
  {
   "metadata": {},
   "cell_type": "code",
   "outputs": [],
   "execution_count": null,
   "source": "keywords = [\"chinese\"]",
   "id": "a11c28d3daf609a6"
  },
  {
   "metadata": {
    "ExecuteTime": {
     "end_time": "2024-07-09T22:07:52.595248Z",
     "start_time": "2024-07-09T22:07:52.588217Z"
    }
   },
   "cell_type": "code",
   "source": [
    "from datetime import date\n",
    "from datetime import timedelta\n",
    "\n",
    "# Eventually will generate from keywords list\n",
    "keywords_with_num = {\"chinese\": 3}\n",
    "search_date_range_start = date(1850, 1, 1)\n",
    "search_date_range_end = date(2024, 7, 9)\n",
    "\n",
    "for keyword, num_searches in keywords_with_num.items():\n",
    "    fragment_search_range_days = int((search_date_range_end - search_date_range_start).days / num_searches)\n",
    "    for search_num in range(num_searches):\n",
    "        start_date = search_date_range_start + timedelta(days=search_num * fragment_search_range_days)\n",
    "        if search_num == num_searches - 1:\n",
    "            end_date = search_date_range_end\n",
    "        else:\n",
    "            end_date = start_date + timedelta(days=fragment_search_range_days - 1)\n",
    "        url = \"https://www.newspapers.com/search/results/?date-end=\" + end_date.strftime('%Y-%m-%d') + \"&date-start=\" + start_date.strftime('%Y-%m-%d') + \"&entity-types=page&keyword=\" + keyword + \"&sort=paper-date-asc\"\n",
    "        print(url)\n",
    "    \n"
   ],
   "id": "99eccf47094edb2c",
   "outputs": [
    {
     "name": "stdout",
     "output_type": "stream",
     "text": [
      "https://www.newspapers.com/search/results/?date-end=1908-03-04&date-start=1850-01-01&entity-types=page&keyword=chink&sort=paper-date-asc\n",
      "https://www.newspapers.com/search/results/?date-end=1966-05-06&date-start=1908-03-05&entity-types=page&keyword=chink&sort=paper-date-asc\n",
      "https://www.newspapers.com/search/results/?date-end=2024-07-09&date-start=1966-05-07&entity-types=page&keyword=chink&sort=paper-date-asc\n"
     ]
    }
   ],
   "execution_count": 2
  },
  {
   "metadata": {},
   "cell_type": "code",
   "outputs": [],
   "execution_count": null,
   "source": "",
   "id": "7c288e203918bfa9"
  }
 ],
 "metadata": {
  "kernelspec": {
   "display_name": "Python 3",
   "language": "python",
   "name": "python3"
  },
  "language_info": {
   "codemirror_mode": {
    "name": "ipython",
    "version": 2
   },
   "file_extension": ".py",
   "mimetype": "text/x-python",
   "name": "python",
   "nbconvert_exporter": "python",
   "pygments_lexer": "ipython2",
   "version": "2.7.6"
  }
 },
 "nbformat": 4,
 "nbformat_minor": 5
}
